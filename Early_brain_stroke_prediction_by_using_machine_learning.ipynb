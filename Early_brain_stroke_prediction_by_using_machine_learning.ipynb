{
  "cells": [
    {
      "cell_type": "markdown",
      "metadata": {
        "id": "view-in-github",
        "colab_type": "text"
      },
      "source": [
        "<a href=\"https://colab.research.google.com/github/sharifulla01/Data-Structure-and-Algorithm/blob/master/Early_brain_stroke_prediction_by_using_machine_learning.ipynb\" target=\"_parent\"><img src=\"https://colab.research.google.com/assets/colab-badge.svg\" alt=\"Open In Colab\"/></a>"
      ]
    },
    {
      "cell_type": "code",
      "execution_count": null,
      "metadata": {
        "id": "KpHMS2TMgSHD"
      },
      "outputs": [],
      "source": [
        "import numpy as np # linear algebra\n",
        "import pandas as pd # data processing, CSV file I/O\n",
        "import os\n",
        "import numpy as np\n",
        "import pandas as pd\n",
        "import seaborn as sns\n",
        "import matplotlib.pyplot as plt\n",
        "import plotly.express as px\n",
        "import plotly.graph_objs as go"
      ]
    },
    {
      "cell_type": "code",
      "execution_count": null,
      "metadata": {
        "colab": {
          "base_uri": "https://localhost:8080/",
          "height": 206
        },
        "id": "loroKiQ7gpxG",
        "outputId": "72082808-8c0f-4cbc-8fa9-4a3a280b4e8b"
      },
      "outputs": [
        {
          "output_type": "execute_result",
          "data": {
            "text/plain": [
              "   gender   age  hypertension  heart_disease ever_married      work_type  \\\n",
              "0    Male  67.0             0              1          Yes        Private   \n",
              "1    Male  80.0             0              1          Yes        Private   \n",
              "2  Female  49.0             0              0          Yes        Private   \n",
              "3  Female  79.0             1              0          Yes  Self-employed   \n",
              "4    Male  81.0             0              0          Yes        Private   \n",
              "\n",
              "  Residence_type  avg_glucose_level   bmi   smoking_status  stroke  \n",
              "0          Urban             228.69  36.6  formerly smoked       1  \n",
              "1          Rural             105.92  32.5     never smoked       1  \n",
              "2          Urban             171.23  34.4           smokes       1  \n",
              "3          Rural             174.12  24.0     never smoked       1  \n",
              "4          Urban             186.21  29.0  formerly smoked       1  "
            ],
            "text/html": [
              "\n",
              "  <div id=\"df-c93e4c03-b40e-4175-b13f-3b68408b6f50\" class=\"colab-df-container\">\n",
              "    <div>\n",
              "<style scoped>\n",
              "    .dataframe tbody tr th:only-of-type {\n",
              "        vertical-align: middle;\n",
              "    }\n",
              "\n",
              "    .dataframe tbody tr th {\n",
              "        vertical-align: top;\n",
              "    }\n",
              "\n",
              "    .dataframe thead th {\n",
              "        text-align: right;\n",
              "    }\n",
              "</style>\n",
              "<table border=\"1\" class=\"dataframe\">\n",
              "  <thead>\n",
              "    <tr style=\"text-align: right;\">\n",
              "      <th></th>\n",
              "      <th>gender</th>\n",
              "      <th>age</th>\n",
              "      <th>hypertension</th>\n",
              "      <th>heart_disease</th>\n",
              "      <th>ever_married</th>\n",
              "      <th>work_type</th>\n",
              "      <th>Residence_type</th>\n",
              "      <th>avg_glucose_level</th>\n",
              "      <th>bmi</th>\n",
              "      <th>smoking_status</th>\n",
              "      <th>stroke</th>\n",
              "    </tr>\n",
              "  </thead>\n",
              "  <tbody>\n",
              "    <tr>\n",
              "      <th>0</th>\n",
              "      <td>Male</td>\n",
              "      <td>67.0</td>\n",
              "      <td>0</td>\n",
              "      <td>1</td>\n",
              "      <td>Yes</td>\n",
              "      <td>Private</td>\n",
              "      <td>Urban</td>\n",
              "      <td>228.69</td>\n",
              "      <td>36.6</td>\n",
              "      <td>formerly smoked</td>\n",
              "      <td>1</td>\n",
              "    </tr>\n",
              "    <tr>\n",
              "      <th>1</th>\n",
              "      <td>Male</td>\n",
              "      <td>80.0</td>\n",
              "      <td>0</td>\n",
              "      <td>1</td>\n",
              "      <td>Yes</td>\n",
              "      <td>Private</td>\n",
              "      <td>Rural</td>\n",
              "      <td>105.92</td>\n",
              "      <td>32.5</td>\n",
              "      <td>never smoked</td>\n",
              "      <td>1</td>\n",
              "    </tr>\n",
              "    <tr>\n",
              "      <th>2</th>\n",
              "      <td>Female</td>\n",
              "      <td>49.0</td>\n",
              "      <td>0</td>\n",
              "      <td>0</td>\n",
              "      <td>Yes</td>\n",
              "      <td>Private</td>\n",
              "      <td>Urban</td>\n",
              "      <td>171.23</td>\n",
              "      <td>34.4</td>\n",
              "      <td>smokes</td>\n",
              "      <td>1</td>\n",
              "    </tr>\n",
              "    <tr>\n",
              "      <th>3</th>\n",
              "      <td>Female</td>\n",
              "      <td>79.0</td>\n",
              "      <td>1</td>\n",
              "      <td>0</td>\n",
              "      <td>Yes</td>\n",
              "      <td>Self-employed</td>\n",
              "      <td>Rural</td>\n",
              "      <td>174.12</td>\n",
              "      <td>24.0</td>\n",
              "      <td>never smoked</td>\n",
              "      <td>1</td>\n",
              "    </tr>\n",
              "    <tr>\n",
              "      <th>4</th>\n",
              "      <td>Male</td>\n",
              "      <td>81.0</td>\n",
              "      <td>0</td>\n",
              "      <td>0</td>\n",
              "      <td>Yes</td>\n",
              "      <td>Private</td>\n",
              "      <td>Urban</td>\n",
              "      <td>186.21</td>\n",
              "      <td>29.0</td>\n",
              "      <td>formerly smoked</td>\n",
              "      <td>1</td>\n",
              "    </tr>\n",
              "  </tbody>\n",
              "</table>\n",
              "</div>\n",
              "    <div class=\"colab-df-buttons\">\n",
              "\n",
              "  <div class=\"colab-df-container\">\n",
              "    <button class=\"colab-df-convert\" onclick=\"convertToInteractive('df-c93e4c03-b40e-4175-b13f-3b68408b6f50')\"\n",
              "            title=\"Convert this dataframe to an interactive table.\"\n",
              "            style=\"display:none;\">\n",
              "\n",
              "  <svg xmlns=\"http://www.w3.org/2000/svg\" height=\"24px\" viewBox=\"0 -960 960 960\">\n",
              "    <path d=\"M120-120v-720h720v720H120Zm60-500h600v-160H180v160Zm220 220h160v-160H400v160Zm0 220h160v-160H400v160ZM180-400h160v-160H180v160Zm440 0h160v-160H620v160ZM180-180h160v-160H180v160Zm440 0h160v-160H620v160Z\"/>\n",
              "  </svg>\n",
              "    </button>\n",
              "\n",
              "  <style>\n",
              "    .colab-df-container {\n",
              "      display:flex;\n",
              "      gap: 12px;\n",
              "    }\n",
              "\n",
              "    .colab-df-convert {\n",
              "      background-color: #E8F0FE;\n",
              "      border: none;\n",
              "      border-radius: 50%;\n",
              "      cursor: pointer;\n",
              "      display: none;\n",
              "      fill: #1967D2;\n",
              "      height: 32px;\n",
              "      padding: 0 0 0 0;\n",
              "      width: 32px;\n",
              "    }\n",
              "\n",
              "    .colab-df-convert:hover {\n",
              "      background-color: #E2EBFA;\n",
              "      box-shadow: 0px 1px 2px rgba(60, 64, 67, 0.3), 0px 1px 3px 1px rgba(60, 64, 67, 0.15);\n",
              "      fill: #174EA6;\n",
              "    }\n",
              "\n",
              "    .colab-df-buttons div {\n",
              "      margin-bottom: 4px;\n",
              "    }\n",
              "\n",
              "    [theme=dark] .colab-df-convert {\n",
              "      background-color: #3B4455;\n",
              "      fill: #D2E3FC;\n",
              "    }\n",
              "\n",
              "    [theme=dark] .colab-df-convert:hover {\n",
              "      background-color: #434B5C;\n",
              "      box-shadow: 0px 1px 3px 1px rgba(0, 0, 0, 0.15);\n",
              "      filter: drop-shadow(0px 1px 2px rgba(0, 0, 0, 0.3));\n",
              "      fill: #FFFFFF;\n",
              "    }\n",
              "  </style>\n",
              "\n",
              "    <script>\n",
              "      const buttonEl =\n",
              "        document.querySelector('#df-c93e4c03-b40e-4175-b13f-3b68408b6f50 button.colab-df-convert');\n",
              "      buttonEl.style.display =\n",
              "        google.colab.kernel.accessAllowed ? 'block' : 'none';\n",
              "\n",
              "      async function convertToInteractive(key) {\n",
              "        const element = document.querySelector('#df-c93e4c03-b40e-4175-b13f-3b68408b6f50');\n",
              "        const dataTable =\n",
              "          await google.colab.kernel.invokeFunction('convertToInteractive',\n",
              "                                                    [key], {});\n",
              "        if (!dataTable) return;\n",
              "\n",
              "        const docLinkHtml = 'Like what you see? Visit the ' +\n",
              "          '<a target=\"_blank\" href=https://colab.research.google.com/notebooks/data_table.ipynb>data table notebook</a>'\n",
              "          + ' to learn more about interactive tables.';\n",
              "        element.innerHTML = '';\n",
              "        dataTable['output_type'] = 'display_data';\n",
              "        await google.colab.output.renderOutput(dataTable, element);\n",
              "        const docLink = document.createElement('div');\n",
              "        docLink.innerHTML = docLinkHtml;\n",
              "        element.appendChild(docLink);\n",
              "      }\n",
              "    </script>\n",
              "  </div>\n",
              "\n",
              "\n",
              "<div id=\"df-eb2efef1-1df5-4b55-82e1-8bf48308f340\">\n",
              "  <button class=\"colab-df-quickchart\" onclick=\"quickchart('df-eb2efef1-1df5-4b55-82e1-8bf48308f340')\"\n",
              "            title=\"Suggest charts\"\n",
              "            style=\"display:none;\">\n",
              "\n",
              "<svg xmlns=\"http://www.w3.org/2000/svg\" height=\"24px\"viewBox=\"0 0 24 24\"\n",
              "     width=\"24px\">\n",
              "    <g>\n",
              "        <path d=\"M19 3H5c-1.1 0-2 .9-2 2v14c0 1.1.9 2 2 2h14c1.1 0 2-.9 2-2V5c0-1.1-.9-2-2-2zM9 17H7v-7h2v7zm4 0h-2V7h2v10zm4 0h-2v-4h2v4z\"/>\n",
              "    </g>\n",
              "</svg>\n",
              "  </button>\n",
              "\n",
              "<style>\n",
              "  .colab-df-quickchart {\n",
              "      --bg-color: #E8F0FE;\n",
              "      --fill-color: #1967D2;\n",
              "      --hover-bg-color: #E2EBFA;\n",
              "      --hover-fill-color: #174EA6;\n",
              "      --disabled-fill-color: #AAA;\n",
              "      --disabled-bg-color: #DDD;\n",
              "  }\n",
              "\n",
              "  [theme=dark] .colab-df-quickchart {\n",
              "      --bg-color: #3B4455;\n",
              "      --fill-color: #D2E3FC;\n",
              "      --hover-bg-color: #434B5C;\n",
              "      --hover-fill-color: #FFFFFF;\n",
              "      --disabled-bg-color: #3B4455;\n",
              "      --disabled-fill-color: #666;\n",
              "  }\n",
              "\n",
              "  .colab-df-quickchart {\n",
              "    background-color: var(--bg-color);\n",
              "    border: none;\n",
              "    border-radius: 50%;\n",
              "    cursor: pointer;\n",
              "    display: none;\n",
              "    fill: var(--fill-color);\n",
              "    height: 32px;\n",
              "    padding: 0;\n",
              "    width: 32px;\n",
              "  }\n",
              "\n",
              "  .colab-df-quickchart:hover {\n",
              "    background-color: var(--hover-bg-color);\n",
              "    box-shadow: 0 1px 2px rgba(60, 64, 67, 0.3), 0 1px 3px 1px rgba(60, 64, 67, 0.15);\n",
              "    fill: var(--button-hover-fill-color);\n",
              "  }\n",
              "\n",
              "  .colab-df-quickchart-complete:disabled,\n",
              "  .colab-df-quickchart-complete:disabled:hover {\n",
              "    background-color: var(--disabled-bg-color);\n",
              "    fill: var(--disabled-fill-color);\n",
              "    box-shadow: none;\n",
              "  }\n",
              "\n",
              "  .colab-df-spinner {\n",
              "    border: 2px solid var(--fill-color);\n",
              "    border-color: transparent;\n",
              "    border-bottom-color: var(--fill-color);\n",
              "    animation:\n",
              "      spin 1s steps(1) infinite;\n",
              "  }\n",
              "\n",
              "  @keyframes spin {\n",
              "    0% {\n",
              "      border-color: transparent;\n",
              "      border-bottom-color: var(--fill-color);\n",
              "      border-left-color: var(--fill-color);\n",
              "    }\n",
              "    20% {\n",
              "      border-color: transparent;\n",
              "      border-left-color: var(--fill-color);\n",
              "      border-top-color: var(--fill-color);\n",
              "    }\n",
              "    30% {\n",
              "      border-color: transparent;\n",
              "      border-left-color: var(--fill-color);\n",
              "      border-top-color: var(--fill-color);\n",
              "      border-right-color: var(--fill-color);\n",
              "    }\n",
              "    40% {\n",
              "      border-color: transparent;\n",
              "      border-right-color: var(--fill-color);\n",
              "      border-top-color: var(--fill-color);\n",
              "    }\n",
              "    60% {\n",
              "      border-color: transparent;\n",
              "      border-right-color: var(--fill-color);\n",
              "    }\n",
              "    80% {\n",
              "      border-color: transparent;\n",
              "      border-right-color: var(--fill-color);\n",
              "      border-bottom-color: var(--fill-color);\n",
              "    }\n",
              "    90% {\n",
              "      border-color: transparent;\n",
              "      border-bottom-color: var(--fill-color);\n",
              "    }\n",
              "  }\n",
              "</style>\n",
              "\n",
              "  <script>\n",
              "    async function quickchart(key) {\n",
              "      const quickchartButtonEl =\n",
              "        document.querySelector('#' + key + ' button');\n",
              "      quickchartButtonEl.disabled = true;  // To prevent multiple clicks.\n",
              "      quickchartButtonEl.classList.add('colab-df-spinner');\n",
              "      try {\n",
              "        const charts = await google.colab.kernel.invokeFunction(\n",
              "            'suggestCharts', [key], {});\n",
              "      } catch (error) {\n",
              "        console.error('Error during call to suggestCharts:', error);\n",
              "      }\n",
              "      quickchartButtonEl.classList.remove('colab-df-spinner');\n",
              "      quickchartButtonEl.classList.add('colab-df-quickchart-complete');\n",
              "    }\n",
              "    (() => {\n",
              "      let quickchartButtonEl =\n",
              "        document.querySelector('#df-eb2efef1-1df5-4b55-82e1-8bf48308f340 button');\n",
              "      quickchartButtonEl.style.display =\n",
              "        google.colab.kernel.accessAllowed ? 'block' : 'none';\n",
              "    })();\n",
              "  </script>\n",
              "</div>\n",
              "    </div>\n",
              "  </div>\n"
            ]
          },
          "metadata": {},
          "execution_count": 90
        }
      ],
      "source": [
        "data = pd.read_csv(\"/content/brain_stroke.csv\")\n",
        "data.head()\n",
        "\n"
      ]
    },
    {
      "cell_type": "markdown",
      "metadata": {
        "id": "YSWK76mGhWJU"
      },
      "source": [
        "**Performing Exploratory Data Analysis**"
      ]
    },
    {
      "cell_type": "code",
      "execution_count": null,
      "metadata": {
        "colab": {
          "base_uri": "https://localhost:8080/"
        },
        "id": "CsDnu9lMhRSc",
        "outputId": "dc9012c0-278b-4bbb-9354-9fbc1bec922e"
      },
      "outputs": [
        {
          "output_type": "stream",
          "name": "stdout",
          "text": [
            "<class 'pandas.core.frame.DataFrame'>\n",
            "RangeIndex: 4981 entries, 0 to 4980\n",
            "Data columns (total 11 columns):\n",
            " #   Column             Non-Null Count  Dtype  \n",
            "---  ------             --------------  -----  \n",
            " 0   gender             4981 non-null   object \n",
            " 1   age                4981 non-null   float64\n",
            " 2   hypertension       4981 non-null   int64  \n",
            " 3   heart_disease      4981 non-null   int64  \n",
            " 4   ever_married       4981 non-null   object \n",
            " 5   work_type          4981 non-null   object \n",
            " 6   Residence_type     4981 non-null   object \n",
            " 7   avg_glucose_level  4981 non-null   float64\n",
            " 8   bmi                4981 non-null   float64\n",
            " 9   smoking_status     4981 non-null   object \n",
            " 10  stroke             4981 non-null   int64  \n",
            "dtypes: float64(3), int64(3), object(5)\n",
            "memory usage: 428.2+ KB\n"
          ]
        }
      ],
      "source": [
        "data.info()"
      ]
    },
    {
      "cell_type": "code",
      "execution_count": null,
      "metadata": {
        "colab": {
          "base_uri": "https://localhost:8080/"
        },
        "id": "ZxAUerEjhZm3",
        "outputId": "24c972b7-3d9b-4cf2-9b1d-51ab17354a52"
      },
      "outputs": [
        {
          "output_type": "execute_result",
          "data": {
            "text/plain": [
              "array(['formerly smoked', 'never smoked', 'smokes', 'Unknown'],\n",
              "      dtype=object)"
            ]
          },
          "metadata": {},
          "execution_count": 92
        }
      ],
      "source": [
        "data[\"smoking_status\"].unique()"
      ]
    },
    {
      "cell_type": "code",
      "execution_count": null,
      "metadata": {
        "colab": {
          "base_uri": "https://localhost:8080/"
        },
        "id": "ER9JZSSchfOo",
        "outputId": "e8371805-fcf2-4c71-9ea3-a50d0c30df8a"
      },
      "outputs": [
        {
          "output_type": "execute_result",
          "data": {
            "text/plain": [
              "gender               0\n",
              "age                  0\n",
              "hypertension         0\n",
              "heart_disease        0\n",
              "ever_married         0\n",
              "work_type            0\n",
              "Residence_type       0\n",
              "avg_glucose_level    0\n",
              "bmi                  0\n",
              "smoking_status       0\n",
              "stroke               0\n",
              "dtype: int64"
            ]
          },
          "metadata": {},
          "execution_count": 93
        }
      ],
      "source": [
        "data.isnull().sum()"
      ]
    },
    {
      "cell_type": "code",
      "execution_count": null,
      "metadata": {
        "colab": {
          "base_uri": "https://localhost:8080/"
        },
        "id": "-gOPAuI6hjrA",
        "outputId": "d88aa5e6-deb3-421f-e5ff-681e0f8006c3"
      },
      "outputs": [
        {
          "output_type": "execute_result",
          "data": {
            "text/plain": [
              "(4981, 11)"
            ]
          },
          "metadata": {},
          "execution_count": 94
        }
      ],
      "source": [
        "data.shape"
      ]
    },
    {
      "cell_type": "markdown",
      "metadata": {
        "id": "e2XGceF2rOJN"
      },
      "source": [
        "**Performing Exploratory Data Analysis**"
      ]
    },
    {
      "cell_type": "code",
      "execution_count": null,
      "metadata": {
        "colab": {
          "base_uri": "https://localhost:8080/"
        },
        "id": "KSQjo3NKhoUf",
        "outputId": "f3fa64a9-e56a-4043-9ea2-53d7736747cb"
      },
      "outputs": [
        {
          "output_type": "stream",
          "name": "stdout",
          "text": [
            "<class 'pandas.core.frame.DataFrame'>\n",
            "RangeIndex: 4981 entries, 0 to 4980\n",
            "Data columns (total 10 columns):\n",
            " #   Column             Non-Null Count  Dtype  \n",
            "---  ------             --------------  -----  \n",
            " 0   gender             4981 non-null   object \n",
            " 1   age                4981 non-null   float64\n",
            " 2   hypertension       4981 non-null   int64  \n",
            " 3   heart_disease      4981 non-null   int64  \n",
            " 4   ever_married       4981 non-null   object \n",
            " 5   work_type          4981 non-null   object \n",
            " 6   avg_glucose_level  4981 non-null   float64\n",
            " 7   bmi                4981 non-null   float64\n",
            " 8   smoking_status     4981 non-null   object \n",
            " 9   stroke             4981 non-null   int64  \n",
            "dtypes: float64(3), int64(3), object(4)\n",
            "memory usage: 389.3+ KB\n"
          ]
        }
      ],
      "source": [
        "data=data.drop([\"Residence_type\"],axis=1)\n",
        "data.info()"
      ]
    },
    {
      "cell_type": "code",
      "execution_count": null,
      "metadata": {
        "colab": {
          "base_uri": "https://localhost:8080/",
          "height": 423
        },
        "id": "5m2YukYbhu1D",
        "outputId": "23263430-b0d8-4800-c9c0-c9b80387447e"
      },
      "outputs": [
        {
          "output_type": "execute_result",
          "data": {
            "text/plain": [
              "      gender   age  hypertension  heart_disease ever_married      work_type  \\\n",
              "0       Male  67.0             0              1          Yes        Private   \n",
              "1       Male  80.0             0              1          Yes        Private   \n",
              "2     Female  49.0             0              0          Yes        Private   \n",
              "3     Female  79.0             1              0          Yes  Self-employed   \n",
              "4       Male  81.0             0              0          Yes        Private   \n",
              "...      ...   ...           ...            ...          ...            ...   \n",
              "4976    Male  41.0             0              0           No        Private   \n",
              "4977    Male  40.0             0              0          Yes        Private   \n",
              "4978  Female  45.0             1              0          Yes       Govt_job   \n",
              "4979    Male  40.0             0              0          Yes        Private   \n",
              "4980  Female  80.0             1              0          Yes        Private   \n",
              "\n",
              "      avg_glucose_level   bmi   smoking_status  stroke  \n",
              "0                228.69  36.6  formerly smoked       1  \n",
              "1                105.92  32.5     never smoked       1  \n",
              "2                171.23  34.4           smokes       1  \n",
              "3                174.12  24.0     never smoked       1  \n",
              "4                186.21  29.0  formerly smoked       1  \n",
              "...                 ...   ...              ...     ...  \n",
              "4976              70.15  29.8  formerly smoked       0  \n",
              "4977             191.15  31.1           smokes       0  \n",
              "4978              95.02  31.8           smokes       0  \n",
              "4979              83.94  30.0           smokes       0  \n",
              "4980              83.75  29.1     never smoked       0  \n",
              "\n",
              "[4981 rows x 10 columns]"
            ],
            "text/html": [
              "\n",
              "  <div id=\"df-c41fd3f5-6818-4623-bbc0-80dbe7525dca\" class=\"colab-df-container\">\n",
              "    <div>\n",
              "<style scoped>\n",
              "    .dataframe tbody tr th:only-of-type {\n",
              "        vertical-align: middle;\n",
              "    }\n",
              "\n",
              "    .dataframe tbody tr th {\n",
              "        vertical-align: top;\n",
              "    }\n",
              "\n",
              "    .dataframe thead th {\n",
              "        text-align: right;\n",
              "    }\n",
              "</style>\n",
              "<table border=\"1\" class=\"dataframe\">\n",
              "  <thead>\n",
              "    <tr style=\"text-align: right;\">\n",
              "      <th></th>\n",
              "      <th>gender</th>\n",
              "      <th>age</th>\n",
              "      <th>hypertension</th>\n",
              "      <th>heart_disease</th>\n",
              "      <th>ever_married</th>\n",
              "      <th>work_type</th>\n",
              "      <th>avg_glucose_level</th>\n",
              "      <th>bmi</th>\n",
              "      <th>smoking_status</th>\n",
              "      <th>stroke</th>\n",
              "    </tr>\n",
              "  </thead>\n",
              "  <tbody>\n",
              "    <tr>\n",
              "      <th>0</th>\n",
              "      <td>Male</td>\n",
              "      <td>67.0</td>\n",
              "      <td>0</td>\n",
              "      <td>1</td>\n",
              "      <td>Yes</td>\n",
              "      <td>Private</td>\n",
              "      <td>228.69</td>\n",
              "      <td>36.6</td>\n",
              "      <td>formerly smoked</td>\n",
              "      <td>1</td>\n",
              "    </tr>\n",
              "    <tr>\n",
              "      <th>1</th>\n",
              "      <td>Male</td>\n",
              "      <td>80.0</td>\n",
              "      <td>0</td>\n",
              "      <td>1</td>\n",
              "      <td>Yes</td>\n",
              "      <td>Private</td>\n",
              "      <td>105.92</td>\n",
              "      <td>32.5</td>\n",
              "      <td>never smoked</td>\n",
              "      <td>1</td>\n",
              "    </tr>\n",
              "    <tr>\n",
              "      <th>2</th>\n",
              "      <td>Female</td>\n",
              "      <td>49.0</td>\n",
              "      <td>0</td>\n",
              "      <td>0</td>\n",
              "      <td>Yes</td>\n",
              "      <td>Private</td>\n",
              "      <td>171.23</td>\n",
              "      <td>34.4</td>\n",
              "      <td>smokes</td>\n",
              "      <td>1</td>\n",
              "    </tr>\n",
              "    <tr>\n",
              "      <th>3</th>\n",
              "      <td>Female</td>\n",
              "      <td>79.0</td>\n",
              "      <td>1</td>\n",
              "      <td>0</td>\n",
              "      <td>Yes</td>\n",
              "      <td>Self-employed</td>\n",
              "      <td>174.12</td>\n",
              "      <td>24.0</td>\n",
              "      <td>never smoked</td>\n",
              "      <td>1</td>\n",
              "    </tr>\n",
              "    <tr>\n",
              "      <th>4</th>\n",
              "      <td>Male</td>\n",
              "      <td>81.0</td>\n",
              "      <td>0</td>\n",
              "      <td>0</td>\n",
              "      <td>Yes</td>\n",
              "      <td>Private</td>\n",
              "      <td>186.21</td>\n",
              "      <td>29.0</td>\n",
              "      <td>formerly smoked</td>\n",
              "      <td>1</td>\n",
              "    </tr>\n",
              "    <tr>\n",
              "      <th>...</th>\n",
              "      <td>...</td>\n",
              "      <td>...</td>\n",
              "      <td>...</td>\n",
              "      <td>...</td>\n",
              "      <td>...</td>\n",
              "      <td>...</td>\n",
              "      <td>...</td>\n",
              "      <td>...</td>\n",
              "      <td>...</td>\n",
              "      <td>...</td>\n",
              "    </tr>\n",
              "    <tr>\n",
              "      <th>4976</th>\n",
              "      <td>Male</td>\n",
              "      <td>41.0</td>\n",
              "      <td>0</td>\n",
              "      <td>0</td>\n",
              "      <td>No</td>\n",
              "      <td>Private</td>\n",
              "      <td>70.15</td>\n",
              "      <td>29.8</td>\n",
              "      <td>formerly smoked</td>\n",
              "      <td>0</td>\n",
              "    </tr>\n",
              "    <tr>\n",
              "      <th>4977</th>\n",
              "      <td>Male</td>\n",
              "      <td>40.0</td>\n",
              "      <td>0</td>\n",
              "      <td>0</td>\n",
              "      <td>Yes</td>\n",
              "      <td>Private</td>\n",
              "      <td>191.15</td>\n",
              "      <td>31.1</td>\n",
              "      <td>smokes</td>\n",
              "      <td>0</td>\n",
              "    </tr>\n",
              "    <tr>\n",
              "      <th>4978</th>\n",
              "      <td>Female</td>\n",
              "      <td>45.0</td>\n",
              "      <td>1</td>\n",
              "      <td>0</td>\n",
              "      <td>Yes</td>\n",
              "      <td>Govt_job</td>\n",
              "      <td>95.02</td>\n",
              "      <td>31.8</td>\n",
              "      <td>smokes</td>\n",
              "      <td>0</td>\n",
              "    </tr>\n",
              "    <tr>\n",
              "      <th>4979</th>\n",
              "      <td>Male</td>\n",
              "      <td>40.0</td>\n",
              "      <td>0</td>\n",
              "      <td>0</td>\n",
              "      <td>Yes</td>\n",
              "      <td>Private</td>\n",
              "      <td>83.94</td>\n",
              "      <td>30.0</td>\n",
              "      <td>smokes</td>\n",
              "      <td>0</td>\n",
              "    </tr>\n",
              "    <tr>\n",
              "      <th>4980</th>\n",
              "      <td>Female</td>\n",
              "      <td>80.0</td>\n",
              "      <td>1</td>\n",
              "      <td>0</td>\n",
              "      <td>Yes</td>\n",
              "      <td>Private</td>\n",
              "      <td>83.75</td>\n",
              "      <td>29.1</td>\n",
              "      <td>never smoked</td>\n",
              "      <td>0</td>\n",
              "    </tr>\n",
              "  </tbody>\n",
              "</table>\n",
              "<p>4981 rows × 10 columns</p>\n",
              "</div>\n",
              "    <div class=\"colab-df-buttons\">\n",
              "\n",
              "  <div class=\"colab-df-container\">\n",
              "    <button class=\"colab-df-convert\" onclick=\"convertToInteractive('df-c41fd3f5-6818-4623-bbc0-80dbe7525dca')\"\n",
              "            title=\"Convert this dataframe to an interactive table.\"\n",
              "            style=\"display:none;\">\n",
              "\n",
              "  <svg xmlns=\"http://www.w3.org/2000/svg\" height=\"24px\" viewBox=\"0 -960 960 960\">\n",
              "    <path d=\"M120-120v-720h720v720H120Zm60-500h600v-160H180v160Zm220 220h160v-160H400v160Zm0 220h160v-160H400v160ZM180-400h160v-160H180v160Zm440 0h160v-160H620v160ZM180-180h160v-160H180v160Zm440 0h160v-160H620v160Z\"/>\n",
              "  </svg>\n",
              "    </button>\n",
              "\n",
              "  <style>\n",
              "    .colab-df-container {\n",
              "      display:flex;\n",
              "      gap: 12px;\n",
              "    }\n",
              "\n",
              "    .colab-df-convert {\n",
              "      background-color: #E8F0FE;\n",
              "      border: none;\n",
              "      border-radius: 50%;\n",
              "      cursor: pointer;\n",
              "      display: none;\n",
              "      fill: #1967D2;\n",
              "      height: 32px;\n",
              "      padding: 0 0 0 0;\n",
              "      width: 32px;\n",
              "    }\n",
              "\n",
              "    .colab-df-convert:hover {\n",
              "      background-color: #E2EBFA;\n",
              "      box-shadow: 0px 1px 2px rgba(60, 64, 67, 0.3), 0px 1px 3px 1px rgba(60, 64, 67, 0.15);\n",
              "      fill: #174EA6;\n",
              "    }\n",
              "\n",
              "    .colab-df-buttons div {\n",
              "      margin-bottom: 4px;\n",
              "    }\n",
              "\n",
              "    [theme=dark] .colab-df-convert {\n",
              "      background-color: #3B4455;\n",
              "      fill: #D2E3FC;\n",
              "    }\n",
              "\n",
              "    [theme=dark] .colab-df-convert:hover {\n",
              "      background-color: #434B5C;\n",
              "      box-shadow: 0px 1px 3px 1px rgba(0, 0, 0, 0.15);\n",
              "      filter: drop-shadow(0px 1px 2px rgba(0, 0, 0, 0.3));\n",
              "      fill: #FFFFFF;\n",
              "    }\n",
              "  </style>\n",
              "\n",
              "    <script>\n",
              "      const buttonEl =\n",
              "        document.querySelector('#df-c41fd3f5-6818-4623-bbc0-80dbe7525dca button.colab-df-convert');\n",
              "      buttonEl.style.display =\n",
              "        google.colab.kernel.accessAllowed ? 'block' : 'none';\n",
              "\n",
              "      async function convertToInteractive(key) {\n",
              "        const element = document.querySelector('#df-c41fd3f5-6818-4623-bbc0-80dbe7525dca');\n",
              "        const dataTable =\n",
              "          await google.colab.kernel.invokeFunction('convertToInteractive',\n",
              "                                                    [key], {});\n",
              "        if (!dataTable) return;\n",
              "\n",
              "        const docLinkHtml = 'Like what you see? Visit the ' +\n",
              "          '<a target=\"_blank\" href=https://colab.research.google.com/notebooks/data_table.ipynb>data table notebook</a>'\n",
              "          + ' to learn more about interactive tables.';\n",
              "        element.innerHTML = '';\n",
              "        dataTable['output_type'] = 'display_data';\n",
              "        await google.colab.output.renderOutput(dataTable, element);\n",
              "        const docLink = document.createElement('div');\n",
              "        docLink.innerHTML = docLinkHtml;\n",
              "        element.appendChild(docLink);\n",
              "      }\n",
              "    </script>\n",
              "  </div>\n",
              "\n",
              "\n",
              "<div id=\"df-4d3d6657-3dc8-495f-aff4-71597e90b824\">\n",
              "  <button class=\"colab-df-quickchart\" onclick=\"quickchart('df-4d3d6657-3dc8-495f-aff4-71597e90b824')\"\n",
              "            title=\"Suggest charts\"\n",
              "            style=\"display:none;\">\n",
              "\n",
              "<svg xmlns=\"http://www.w3.org/2000/svg\" height=\"24px\"viewBox=\"0 0 24 24\"\n",
              "     width=\"24px\">\n",
              "    <g>\n",
              "        <path d=\"M19 3H5c-1.1 0-2 .9-2 2v14c0 1.1.9 2 2 2h14c1.1 0 2-.9 2-2V5c0-1.1-.9-2-2-2zM9 17H7v-7h2v7zm4 0h-2V7h2v10zm4 0h-2v-4h2v4z\"/>\n",
              "    </g>\n",
              "</svg>\n",
              "  </button>\n",
              "\n",
              "<style>\n",
              "  .colab-df-quickchart {\n",
              "      --bg-color: #E8F0FE;\n",
              "      --fill-color: #1967D2;\n",
              "      --hover-bg-color: #E2EBFA;\n",
              "      --hover-fill-color: #174EA6;\n",
              "      --disabled-fill-color: #AAA;\n",
              "      --disabled-bg-color: #DDD;\n",
              "  }\n",
              "\n",
              "  [theme=dark] .colab-df-quickchart {\n",
              "      --bg-color: #3B4455;\n",
              "      --fill-color: #D2E3FC;\n",
              "      --hover-bg-color: #434B5C;\n",
              "      --hover-fill-color: #FFFFFF;\n",
              "      --disabled-bg-color: #3B4455;\n",
              "      --disabled-fill-color: #666;\n",
              "  }\n",
              "\n",
              "  .colab-df-quickchart {\n",
              "    background-color: var(--bg-color);\n",
              "    border: none;\n",
              "    border-radius: 50%;\n",
              "    cursor: pointer;\n",
              "    display: none;\n",
              "    fill: var(--fill-color);\n",
              "    height: 32px;\n",
              "    padding: 0;\n",
              "    width: 32px;\n",
              "  }\n",
              "\n",
              "  .colab-df-quickchart:hover {\n",
              "    background-color: var(--hover-bg-color);\n",
              "    box-shadow: 0 1px 2px rgba(60, 64, 67, 0.3), 0 1px 3px 1px rgba(60, 64, 67, 0.15);\n",
              "    fill: var(--button-hover-fill-color);\n",
              "  }\n",
              "\n",
              "  .colab-df-quickchart-complete:disabled,\n",
              "  .colab-df-quickchart-complete:disabled:hover {\n",
              "    background-color: var(--disabled-bg-color);\n",
              "    fill: var(--disabled-fill-color);\n",
              "    box-shadow: none;\n",
              "  }\n",
              "\n",
              "  .colab-df-spinner {\n",
              "    border: 2px solid var(--fill-color);\n",
              "    border-color: transparent;\n",
              "    border-bottom-color: var(--fill-color);\n",
              "    animation:\n",
              "      spin 1s steps(1) infinite;\n",
              "  }\n",
              "\n",
              "  @keyframes spin {\n",
              "    0% {\n",
              "      border-color: transparent;\n",
              "      border-bottom-color: var(--fill-color);\n",
              "      border-left-color: var(--fill-color);\n",
              "    }\n",
              "    20% {\n",
              "      border-color: transparent;\n",
              "      border-left-color: var(--fill-color);\n",
              "      border-top-color: var(--fill-color);\n",
              "    }\n",
              "    30% {\n",
              "      border-color: transparent;\n",
              "      border-left-color: var(--fill-color);\n",
              "      border-top-color: var(--fill-color);\n",
              "      border-right-color: var(--fill-color);\n",
              "    }\n",
              "    40% {\n",
              "      border-color: transparent;\n",
              "      border-right-color: var(--fill-color);\n",
              "      border-top-color: var(--fill-color);\n",
              "    }\n",
              "    60% {\n",
              "      border-color: transparent;\n",
              "      border-right-color: var(--fill-color);\n",
              "    }\n",
              "    80% {\n",
              "      border-color: transparent;\n",
              "      border-right-color: var(--fill-color);\n",
              "      border-bottom-color: var(--fill-color);\n",
              "    }\n",
              "    90% {\n",
              "      border-color: transparent;\n",
              "      border-bottom-color: var(--fill-color);\n",
              "    }\n",
              "  }\n",
              "</style>\n",
              "\n",
              "  <script>\n",
              "    async function quickchart(key) {\n",
              "      const quickchartButtonEl =\n",
              "        document.querySelector('#' + key + ' button');\n",
              "      quickchartButtonEl.disabled = true;  // To prevent multiple clicks.\n",
              "      quickchartButtonEl.classList.add('colab-df-spinner');\n",
              "      try {\n",
              "        const charts = await google.colab.kernel.invokeFunction(\n",
              "            'suggestCharts', [key], {});\n",
              "      } catch (error) {\n",
              "        console.error('Error during call to suggestCharts:', error);\n",
              "      }\n",
              "      quickchartButtonEl.classList.remove('colab-df-spinner');\n",
              "      quickchartButtonEl.classList.add('colab-df-quickchart-complete');\n",
              "    }\n",
              "    (() => {\n",
              "      let quickchartButtonEl =\n",
              "        document.querySelector('#df-4d3d6657-3dc8-495f-aff4-71597e90b824 button');\n",
              "      quickchartButtonEl.style.display =\n",
              "        google.colab.kernel.accessAllowed ? 'block' : 'none';\n",
              "    })();\n",
              "  </script>\n",
              "</div>\n",
              "    </div>\n",
              "  </div>\n"
            ]
          },
          "metadata": {},
          "execution_count": 96
        }
      ],
      "source": [
        "data.drop_duplicates()\n",
        "data"
      ]
    },
    {
      "cell_type": "code",
      "execution_count": null,
      "metadata": {
        "colab": {
          "base_uri": "https://localhost:8080/"
        },
        "id": "f2QY7j1Xh05W",
        "outputId": "4a3a3501-9b85-4aa4-e99c-0ad1408ea55f"
      },
      "outputs": [
        {
          "output_type": "stream",
          "name": "stdout",
          "text": [
            "<class 'pandas.core.frame.DataFrame'>\n",
            "RangeIndex: 4981 entries, 0 to 4980\n",
            "Data columns (total 10 columns):\n",
            " #   Column             Non-Null Count  Dtype  \n",
            "---  ------             --------------  -----  \n",
            " 0   gender             4981 non-null   int64  \n",
            " 1   age                4981 non-null   float64\n",
            " 2   hypertension       4981 non-null   int64  \n",
            " 3   heart_disease      4981 non-null   int64  \n",
            " 4   ever_married       4981 non-null   int64  \n",
            " 5   work_type          4981 non-null   int64  \n",
            " 6   avg_glucose_level  4981 non-null   float64\n",
            " 7   bmi                4981 non-null   float64\n",
            " 8   smoking_status     4981 non-null   int64  \n",
            " 9   stroke             4981 non-null   int64  \n",
            "dtypes: float64(3), int64(7)\n",
            "memory usage: 389.3 KB\n"
          ]
        }
      ],
      "source": [
        "from sklearn.preprocessing import LabelEncoder\n",
        "enc=LabelEncoder()\n",
        "for i in data.columns:\n",
        "    if data[i].dtype == \"object\":\n",
        "        data[i]=enc.fit_transform(data[i])\n",
        "\n",
        "data.info()"
      ]
    },
    {
      "cell_type": "code",
      "execution_count": null,
      "metadata": {
        "id": "0erUcc2XJ3gg"
      },
      "outputs": [],
      "source": [
        "data = data[(data >= 0).all(1)]"
      ]
    },
    {
      "cell_type": "markdown",
      "metadata": {
        "id": "44rWHPu0lZdJ"
      },
      "source": [
        "heatmap"
      ]
    },
    {
      "cell_type": "code",
      "execution_count": null,
      "metadata": {
        "id": "-IRz0EdXh2-k"
      },
      "outputs": [],
      "source": [
        "sns.heatmap(data.corr(), cmap='coolwarm')\n",
        "\n",
        "# Show the plot\n",
        "plt.show()"
      ]
    },
    {
      "cell_type": "markdown",
      "metadata": {
        "id": "KA7XRaesro_H"
      },
      "source": [
        "**Visualization of  Descriptive Analysis**"
      ]
    },
    {
      "cell_type": "code",
      "execution_count": null,
      "metadata": {
        "id": "-MbWCslXryre"
      },
      "outputs": [],
      "source": [
        "cm = sns.light_palette(\"green\", as_cmap=True)"
      ]
    },
    {
      "cell_type": "code",
      "execution_count": null,
      "metadata": {
        "id": "LwEVNbB3r_gD"
      },
      "outputs": [],
      "source": [
        "data.describe().T.style.background_gradient(cmap=cm)"
      ]
    },
    {
      "cell_type": "code",
      "execution_count": null,
      "metadata": {
        "id": "MklEjPYLsFfC"
      },
      "outputs": [],
      "source": [
        "fig = px.imshow(data.describe().T, text_auto=True, aspect=\"auto\")\n",
        "fig.show()"
      ]
    },
    {
      "cell_type": "code",
      "execution_count": null,
      "metadata": {
        "id": "tMIrS13YsYVl"
      },
      "outputs": [],
      "source": [
        "fig = px.imshow(data.cov(), text_auto=True, aspect=\"auto\")\n",
        "fig.show()"
      ]
    },
    {
      "cell_type": "code",
      "execution_count": null,
      "metadata": {
        "id": "XydxnAy3sfFd"
      },
      "outputs": [],
      "source": [
        "data.corr().style.background_gradient(cmap=cm)"
      ]
    },
    {
      "cell_type": "code",
      "execution_count": null,
      "metadata": {
        "id": "5tdSp56vslcD"
      },
      "outputs": [],
      "source": [
        "fig = px.imshow(data.corr(), text_auto=True, aspect=\"auto\")\n",
        "fig.show()"
      ]
    },
    {
      "cell_type": "code",
      "execution_count": null,
      "metadata": {
        "colab": {
          "base_uri": "https://localhost:8080/"
        },
        "id": "w93AhjCUsnTB",
        "outputId": "ac8b704d-7b20-4d7d-eb6c-44a5afcb1c08"
      },
      "outputs": [
        {
          "output_type": "execute_result",
          "data": {
            "text/plain": [
              "gender               0\n",
              "age                  0\n",
              "hypertension         0\n",
              "heart_disease        0\n",
              "ever_married         0\n",
              "work_type            0\n",
              "avg_glucose_level    0\n",
              "bmi                  0\n",
              "smoking_status       0\n",
              "stroke               0\n",
              "dtype: int64"
            ]
          },
          "metadata": {},
          "execution_count": 106
        }
      ],
      "source": [
        "data.isnull().sum()"
      ]
    },
    {
      "cell_type": "markdown",
      "metadata": {
        "id": "0Ahzdlmll2Ra"
      },
      "source": [
        "**Pie Chart**"
      ]
    },
    {
      "cell_type": "markdown",
      "metadata": {
        "id": "XWg8CtMWl92a"
      },
      "source": [
        "Relationship with Gender"
      ]
    },
    {
      "cell_type": "code",
      "execution_count": null,
      "metadata": {
        "id": "Dvr3uyEWlXLG"
      },
      "outputs": [],
      "source": [
        "fig = px.pie(data, values='stroke',names='gender',title='Percentage of Stroke according to Gender')\n",
        "fig.show()"
      ]
    },
    {
      "cell_type": "code",
      "execution_count": null,
      "metadata": {
        "id": "hysYa5g8nMSA"
      },
      "outputs": [],
      "source": [
        "fig = px.pie(data, values='hypertension',names='gender',title='Percentage of Hypertension according to Gender')\n",
        "fig.show()"
      ]
    },
    {
      "cell_type": "code",
      "execution_count": null,
      "metadata": {
        "id": "bnagkFZGnSg-"
      },
      "outputs": [],
      "source": [
        "fig = px.pie(data, values='heart_disease',names='gender',title='Percentage of Heart Disease according to Gender')\n",
        "fig.show()"
      ]
    },
    {
      "cell_type": "markdown",
      "metadata": {
        "id": "YW3iZll5nbxb"
      },
      "source": [
        "Relationship with Married people"
      ]
    },
    {
      "cell_type": "code",
      "execution_count": null,
      "metadata": {
        "id": "d-yMCaL6nYwX"
      },
      "outputs": [],
      "source": [
        "fig = px.pie(data, values='stroke',names='ever_married',title='Percentage of Stroke according to Marriage Status')\n",
        "fig.show()"
      ]
    },
    {
      "cell_type": "code",
      "execution_count": null,
      "metadata": {
        "id": "bMMu48F9nxA0"
      },
      "outputs": [],
      "source": [
        "fig = px.pie(data, values='heart_disease',names='ever_married',title='Percentage of Heart Disease according to Marriage Status')\n",
        "fig.show()"
      ]
    },
    {
      "cell_type": "markdown",
      "metadata": {
        "id": "9-11HRHxn56o"
      },
      "source": [
        "Relationship with Work type"
      ]
    },
    {
      "cell_type": "code",
      "execution_count": null,
      "metadata": {
        "id": "zllTuzDpn69E"
      },
      "outputs": [],
      "source": [
        "fig = px.pie(data, values='stroke',names='work_type',title='Percentage of Stroke according to Working Type')\n",
        "fig.show()"
      ]
    },
    {
      "cell_type": "code",
      "execution_count": null,
      "metadata": {
        "id": "iEZ075yioAn0"
      },
      "outputs": [],
      "source": [
        "fig = px.pie(data, values='hypertension',names='work_type',title='Percentage of Hypertension according to Working Type')\n",
        "fig.show()"
      ]
    },
    {
      "cell_type": "code",
      "execution_count": null,
      "metadata": {
        "id": "uDGRLGCIoGAL"
      },
      "outputs": [],
      "source": [
        "fig = px.pie(data, values='heart_disease',names='work_type',title='Percentage of Heart disease according to Working Type')\n",
        "fig.show()"
      ]
    },
    {
      "cell_type": "markdown",
      "metadata": {
        "id": "_cyDGmFYoWUx"
      },
      "source": [
        "Relationship with Smoking Status"
      ]
    },
    {
      "cell_type": "code",
      "execution_count": null,
      "metadata": {
        "id": "XFhgalvGoXG0"
      },
      "outputs": [],
      "source": [
        "fig = px.pie(data, values='stroke',names='smoking_status' ,title='Percentage of Heart Disease according to Smoking Status')\n",
        "fig.show()"
      ]
    },
    {
      "cell_type": "code",
      "execution_count": null,
      "metadata": {
        "id": "3qgFJRb2o1nM"
      },
      "outputs": [],
      "source": [
        "fig = px.pie(data, values='hypertension',names='smoking_status',title='Percentage of Hypertension according to Smoking Status')\n",
        "fig.show()"
      ]
    },
    {
      "cell_type": "code",
      "execution_count": null,
      "metadata": {
        "id": "_G9oYojYo3K1"
      },
      "outputs": [],
      "source": [
        "fig = px.pie(data, values='heart_disease',names='smoking_status',title='Percentage of Heart Disease according to Smoking Status')\n",
        "fig.show()"
      ]
    },
    {
      "cell_type": "markdown",
      "metadata": {
        "id": "xLSJ961tpA3T"
      },
      "source": [
        "**BarPlot**"
      ]
    },
    {
      "cell_type": "markdown",
      "metadata": {
        "id": "YaHeiKvvpHtY"
      },
      "source": [
        "Barplot of Gender"
      ]
    },
    {
      "cell_type": "code",
      "execution_count": null,
      "metadata": {
        "id": "rsb4pZoZpFzY"
      },
      "outputs": [],
      "source": [
        "gender_counts = data['gender'].value_counts()\n",
        "\n",
        "fig = go.Figure(data=go.Bar(x=gender_counts.index, y=gender_counts.values))\n",
        "fig.update_layout(title='Gender Distribution',\n",
        "                  xaxis_title='Gender',\n",
        "                  yaxis_title='Count')\n",
        "fig.show()"
      ]
    },
    {
      "cell_type": "markdown",
      "metadata": {
        "id": "WnuRzDmdpgn2"
      },
      "source": [
        "Barplot of Age"
      ]
    },
    {
      "cell_type": "code",
      "execution_count": null,
      "metadata": {
        "id": "ya48uCBtpha6"
      },
      "outputs": [],
      "source": [
        "age_counts = data[\"age\"].value_counts()\n",
        "\n",
        "fig = go.Figure(data=go.Bar(x=age_counts.index, y=age_counts.values))\n",
        "fig.update_layout(title='Age Distribution',\n",
        "                  xaxis_title='Age',\n",
        "                  yaxis_title='Count')\n",
        "fig.show()"
      ]
    },
    {
      "cell_type": "markdown",
      "metadata": {
        "id": "3lND4-YwppL4"
      },
      "source": [
        "Barplot of Hypertension"
      ]
    },
    {
      "cell_type": "code",
      "execution_count": null,
      "metadata": {
        "id": "uXZszX5Npp9I"
      },
      "outputs": [],
      "source": [
        "hypertension_counts = data[\"hypertension\"].value_counts()\n",
        "fig = go.Figure(data=go.Bar(x=hypertension_counts.index, y=hypertension_counts.values))\n",
        "fig.update_layout(title='Hypertension Distribution',\n",
        "                  xaxis_title='hypertension',\n",
        "                  yaxis_title='Count')\n",
        "fig.show()"
      ]
    },
    {
      "cell_type": "markdown",
      "metadata": {
        "id": "74aOoX4Qputi"
      },
      "source": [
        "Barplot of Heart Disease"
      ]
    },
    {
      "cell_type": "code",
      "execution_count": null,
      "metadata": {
        "id": "v25mMlcjpy6m"
      },
      "outputs": [],
      "source": [
        "heart_disease_counts = data['heart_disease'].value_counts()\n",
        "fig = go.Figure(data=go.Bar(x=heart_disease_counts.index, y=heart_disease_counts.values))\n",
        "fig.update_layout(title='Heart Disease Distribution',\n",
        "                  xaxis_title='Heart Disease',\n",
        "                  yaxis_title='Count')\n",
        "fig.show()"
      ]
    },
    {
      "cell_type": "markdown",
      "metadata": {
        "id": "kknmNd5yqDn-"
      },
      "source": [
        "Barplot of Marriage people"
      ]
    },
    {
      "cell_type": "code",
      "execution_count": null,
      "metadata": {
        "id": "3K2ZoAWyqEgT"
      },
      "outputs": [],
      "source": [
        "ever_married_counts = data['ever_married'].value_counts()\n",
        "fig = go.Figure(data=go.Bar(x=ever_married_counts.index, y=ever_married_counts.values))\n",
        "fig.update_layout(title='Ever Married Distribution',\n",
        "                  xaxis_title='Ever Married',\n",
        "                  yaxis_title='Count')\n",
        "fig.show()"
      ]
    },
    {
      "cell_type": "markdown",
      "metadata": {
        "id": "q54gGUY-qbM8"
      },
      "source": [
        "Barplot of Work_type"
      ]
    },
    {
      "cell_type": "code",
      "execution_count": null,
      "metadata": {
        "id": "jr4V9LlOqaA4"
      },
      "outputs": [],
      "source": [
        "work_type_counts = data['work_type'].value_counts()\n",
        "\n",
        "fig = go.Figure(data=go.Bar(x=work_type_counts.index, y=work_type_counts.values))\n",
        "fig.update_layout(title='Work Type Distribution',\n",
        "                  xaxis_title='Work Type',\n",
        "                  yaxis_title='Count')\n",
        "fig.show()"
      ]
    },
    {
      "cell_type": "markdown",
      "metadata": {
        "id": "QJEhlkyWqoQa"
      },
      "source": [
        "Barplot of BMI"
      ]
    },
    {
      "cell_type": "code",
      "execution_count": null,
      "metadata": {
        "id": "ynku6oFjqpEM"
      },
      "outputs": [],
      "source": [
        "bmi_counts = data['bmi'].value_counts()\n",
        "\n",
        "\n",
        "fig = go.Figure(data=go.Bar(x=bmi_counts.index, y=bmi_counts.values))\n",
        "fig.update_layout(title='BMI Distribution',\n",
        "                  xaxis_title='BMI',\n",
        "                  yaxis_title='Count')\n",
        "fig.show()"
      ]
    },
    {
      "cell_type": "code",
      "execution_count": null,
      "metadata": {
        "id": "2DXxMR0Jh9t4"
      },
      "outputs": [],
      "source": [
        "y = data[\"stroke\"]\n",
        "x= data.drop([\"stroke\"], axis =1)"
      ]
    },
    {
      "cell_type": "code",
      "execution_count": null,
      "metadata": {
        "id": "Ewnqz2mREcCg"
      },
      "outputs": [],
      "source": [
        "from sklearn.preprocessing import StandardScaler, Normalizer\n",
        "scaler = StandardScaler()\n",
        "x=scaler.fit_transform(x)\n",
        "x=Normalizer().fit_transform(x)"
      ]
    },
    {
      "cell_type": "code",
      "execution_count": null,
      "metadata": {
        "colab": {
          "base_uri": "https://localhost:8080/"
        },
        "id": "DpBGr2sh_Hir",
        "outputId": "06e13077-1e96-46af-f60d-513d9d325582"
      },
      "outputs": [
        {
          "output_type": "execute_result",
          "data": {
            "text/plain": [
              "((9466, 9), (9466,))"
            ]
          },
          "metadata": {},
          "execution_count": 127
        }
      ],
      "source": [
        "from imblearn.over_sampling import RandomOverSampler\n",
        "ros = RandomOverSampler(random_state=0)\n",
        "x_resampled, y_resampled = ros.fit_resample(x, y)\n",
        "x_resampled.shape,y_resampled.shape"
      ]
    },
    {
      "cell_type": "markdown",
      "metadata": {
        "id": "HMxQXKuBiF4R"
      },
      "source": [
        "**Normalizing the independent**"
      ]
    },
    {
      "cell_type": "code",
      "execution_count": null,
      "metadata": {
        "id": "6Y9PNDJJiBaw"
      },
      "outputs": [],
      "source": []
    },
    {
      "cell_type": "markdown",
      "metadata": {
        "id": "fDmwUhYEibP2"
      },
      "source": [
        "**1. Splitting data (60-40)**"
      ]
    },
    {
      "cell_type": "code",
      "execution_count": null,
      "metadata": {
        "id": "91uMwtn_id0F"
      },
      "outputs": [],
      "source": [
        "from sklearn.model_selection import train_test_split\n",
        "x_train, x_test, y_train, y_test = train_test_split(x_resampled, y_resampled ,test_size=0.40, random_state=0)"
      ]
    },
    {
      "cell_type": "markdown",
      "metadata": {
        "id": "UJBDf10WinM5"
      },
      "source": [
        "**Building Random Forest Model**"
      ]
    },
    {
      "cell_type": "code",
      "execution_count": null,
      "metadata": {
        "colab": {
          "base_uri": "https://localhost:8080/"
        },
        "id": "N-sVI86iisPF",
        "outputId": "8916a6f1-d3fc-4b29-a09b-64e5009079c1"
      },
      "outputs": [
        {
          "output_type": "stream",
          "name": "stdout",
          "text": [
            "Accuracy score: 0.981\n",
            "Precision score: 0.981\n",
            "Recall score: 0.981\n",
            "F1 score: 0.981\n"
          ]
        }
      ],
      "source": [
        "from sklearn.ensemble import RandomForestClassifier\n",
        "from sklearn.metrics import accuracy_score, f1_score, precision_score, recall_score\n",
        "model = RandomForestClassifier(random_state=0)\n",
        "model.fit(x_train,y_train)\n",
        "y_pred = model.predict(x_test)\n",
        "\n",
        "\n",
        "print(\"Accuracy score: %.3f\"%accuracy_score(y_test, y_pred))\n",
        "print(\"Precision score: %.3f\"%precision_score(y_test, y_pred, average='macro'))\n",
        "print(\"Recall score: %.3f\"%recall_score(y_test, y_pred, average='macro'))\n",
        "print(\"F1 score: %.3f\"%f1_score(y_test, y_pred, average='macro'))"
      ]
    },
    {
      "cell_type": "code",
      "execution_count": null,
      "metadata": {
        "id": "VW4abQgOOTOR"
      },
      "outputs": [],
      "source": [
        "import seaborn as sns\n",
        "import matplotlib.pyplot as plt\n",
        "\n",
        "accuracy = 0.988\n",
        "precision = 0.989\n",
        "recall = 0.988\n",
        "f1 = 0.988\n",
        "\n",
        "scores = [accuracy, precision, recall, f1]\n",
        "score_names = ['Accuracy', 'Precision', 'Recall', 'F1']\n",
        "\n",
        "data = {'Metrics': score_names, 'Scores': scores}\n",
        "df = pd.DataFrame(data)\n",
        "\n",
        "plt.figure(figsize=(8, 6))\n",
        "sns.barplot(x='Metrics', y='Scores', data=df, palette='viridis')\n",
        "plt.xlabel('Metrics')\n",
        "plt.ylabel('Scores')\n",
        "plt.title('Performance Metrics - Random Forest Classifier')\n",
        "plt.ylim(0.95, 1.0)\n",
        "plt.show()\n"
      ]
    },
    {
      "cell_type": "markdown",
      "metadata": {
        "id": "DEJIC_uhizcK"
      },
      "source": [
        "**2. Splitting data (70-30)**"
      ]
    },
    {
      "cell_type": "code",
      "execution_count": null,
      "metadata": {
        "id": "54QiSXlxi3fJ"
      },
      "outputs": [],
      "source": [
        "x_train, x_test, y_train, y_test = train_test_split(x_resampled, y_resampled ,test_size=0.3, random_state=0)"
      ]
    },
    {
      "cell_type": "code",
      "execution_count": null,
      "metadata": {
        "colab": {
          "base_uri": "https://localhost:8080/"
        },
        "id": "ig1j4v-Qi_5X",
        "outputId": "1961384e-cfcf-49a8-cdcf-32d89a35a0bc"
      },
      "outputs": [
        {
          "output_type": "stream",
          "name": "stdout",
          "text": [
            "Accuracy score: 0.985\n",
            "Precision score: 0.985\n",
            "Recall score: 0.985\n",
            "F1 score: 0.985\n"
          ]
        }
      ],
      "source": [
        "from sklearn.ensemble import RandomForestClassifier\n",
        "from sklearn.metrics import accuracy_score, f1_score, precision_score, recall_score\n",
        "model = RandomForestClassifier(random_state=0)\n",
        "model.fit(x_train,y_train)\n",
        "y_pred = model.predict(x_test)\n",
        "\n",
        "print(\"Accuracy score: %.3f\"%accuracy_score(y_test, y_pred))\n",
        "print(\"Precision score: %.3f\"%precision_score(y_test, y_pred, average='macro'))\n",
        "print(\"Recall score: %.3f\"%recall_score(y_test, y_pred, average='macro'))\n",
        "print(\"F1 score: %.3f\"%f1_score(y_test, y_pred, average='macro'))"
      ]
    },
    {
      "cell_type": "markdown",
      "metadata": {
        "id": "jvaD5p-6i7NE"
      },
      "source": [
        "**RFMODEL02 - Adjusting n_estimators = 10, n_jobs = 1**"
      ]
    },
    {
      "cell_type": "code",
      "execution_count": null,
      "metadata": {
        "colab": {
          "base_uri": "https://localhost:8080/"
        },
        "id": "U6zaqsSAjGf7",
        "outputId": "4ec7301a-4c48-488e-febe-af239057d2e7"
      },
      "outputs": [
        {
          "output_type": "stream",
          "name": "stdout",
          "text": [
            "Accuracy score: 0.988\n",
            "Precision score: 0.989\n",
            "Recall score: 0.988\n",
            "F1 score: 0.988\n"
          ]
        }
      ],
      "source": [
        "model02=RandomForestClassifier(n_estimators=10, n_jobs=1,random_state=0)\n",
        "model02.fit(x_train,y_train)\n",
        "y_pred=model02.predict(x_test)\n",
        "\n",
        "print(\"Accuracy score: %.3f\"%accuracy_score(y_test, y_pred))\n",
        "print(\"Precision score: %.3f\"%precision_score(y_test, y_pred, average='macro'))\n",
        "print(\"Recall score: %.3f\"%recall_score(y_test, y_pred, average='macro'))\n",
        "print(\"F1 score: %.3f\"%f1_score(y_test, y_pred, average='macro'))"
      ]
    },
    {
      "cell_type": "markdown",
      "metadata": {
        "id": "FjNcaEtRjZCF"
      },
      "source": [
        "**RFMODEL03 - Adjusting n_estimators = 50, n_jobs = 2**"
      ]
    },
    {
      "cell_type": "code",
      "execution_count": null,
      "metadata": {
        "colab": {
          "base_uri": "https://localhost:8080/"
        },
        "id": "2wJT1JqfjgBs",
        "outputId": "f3f896e6-9afc-413f-e41d-de444a95ce6a"
      },
      "outputs": [
        {
          "output_type": "stream",
          "name": "stdout",
          "text": [
            "Accuracy score: 0.987\n",
            "Precision score: 0.987\n",
            "Recall score: 0.987\n",
            "F1 score: 0.987\n"
          ]
        }
      ],
      "source": [
        "model03=RandomForestClassifier(n_estimators=50, n_jobs=2,random_state=0)\n",
        "model03.fit(x_train,y_train)\n",
        "y_pred=model03.predict(x_test)\n",
        "\n",
        "print(\"Accuracy score: %.3f\"%accuracy_score(y_test, y_pred))\n",
        "print(\"Precision score: %.3f\"%precision_score(y_test, y_pred, average='macro'))\n",
        "print(\"Recall score: %.3f\"%recall_score(y_test, y_pred, average='macro'))\n",
        "print(\"F1 score: %.3f\"%f1_score(y_test, y_pred, average='macro'))"
      ]
    },
    {
      "cell_type": "markdown",
      "metadata": {
        "id": "HcWqj4jfjkSW"
      },
      "source": [
        "**RFMODEL04 - Adjusting n_estimators = 100, n_jobs = 3**"
      ]
    },
    {
      "cell_type": "code",
      "execution_count": null,
      "metadata": {
        "colab": {
          "base_uri": "https://localhost:8080/"
        },
        "id": "VGENPrX9joVx",
        "outputId": "130fd581-067f-4058-a209-1eae3b59b258"
      },
      "outputs": [
        {
          "output_type": "stream",
          "name": "stdout",
          "text": [
            "Accuracy score: 0.985\n",
            "Precision score: 0.985\n",
            "Recall score: 0.985\n",
            "F1 score: 0.985\n"
          ]
        }
      ],
      "source": [
        "model04=RandomForestClassifier(n_estimators=100, n_jobs=3,random_state=0)\n",
        "model04.fit(x_train,y_train)\n",
        "y_pred=model04.predict(x_test)\n",
        "\n",
        "print(\"Accuracy score: %.3f\"%accuracy_score(y_test, y_pred))\n",
        "print(\"Precision score: %.3f\"%precision_score(y_test, y_pred, average='macro'))\n",
        "print(\"Recall score: %.3f\"%recall_score(y_test, y_pred, average='macro'))\n",
        "print(\"F1 score: %.3f\"%f1_score(y_test, y_pred, average='macro'))"
      ]
    },
    {
      "cell_type": "markdown",
      "metadata": {
        "id": "B7PjXRICjucO"
      },
      "source": [
        "**Visualizing the metrics with adjustments in data splitting(training & testing)**"
      ]
    },
    {
      "cell_type": "code",
      "execution_count": null,
      "metadata": {
        "id": "ePgeGjqijw9W"
      },
      "outputs": [],
      "source": [
        "import matplotlib.pyplot as plt\n",
        "\n",
        "#list of the performance accuracies\n",
        "accuracies = [0.950, 0.954]\n",
        "\n",
        "#list of the training and testing set splits\n",
        "splits = ['60-40', '70-30']\n",
        "\n",
        "# Plot the performance accuracy of each model against the training and testing set split\n",
        "plt.plot(splits, accuracies)\n",
        "plt.xlabel('Training and testing set split')\n",
        "plt.ylabel('Performance accuracy')\n",
        "plt.title('Performance accuracy of random forest models with different training and testing set splits')\n",
        "plt.show()\n"
      ]
    },
    {
      "cell_type": "code",
      "execution_count": null,
      "metadata": {
        "id": "qzH1vhP9j2al"
      },
      "outputs": [],
      "source": [
        "import matplotlib.pyplot as plt\n",
        "\n",
        "precision_scores = [0.477, 0.478]\n",
        "recall_scores = [0.498, 0.499]\n",
        "f1_scores = [0.487, 0.488]\n",
        "colors = ['blue', 'red']\n",
        "labels = ['60-40 split', '70-30 split']\n",
        "\n",
        "fig, ax = plt.subplots()\n",
        "# Set the x-axis labels to be the training-testing splits\n",
        "ax.set_xticks([0, 1])\n",
        "ax.set_xticklabels(labels)\n",
        "\n",
        "# Plot the precision scores, recall scores, and F1 scores\n",
        "ax.plot(precision_scores, label='Precision score', color=colors[0])\n",
        "ax.plot(recall_scores, label='Recall score', color=colors[1])\n",
        "ax.plot(f1_scores, label='F1 score', color='green')\n",
        "\n",
        "# Set the title of the plot\n",
        "ax.set_title('Precision score, recall score, and F1 score of random forest models with different training and testing set splits')\n",
        "ax.set_xlabel('Training-testing split')\n",
        "ax.set_ylabel('Score')\n",
        "\n",
        "# Add a legend to the plot\n",
        "ax.legend()\n",
        "\n",
        "# Show the plot\n",
        "plt.show()"
      ]
    },
    {
      "cell_type": "markdown",
      "metadata": {
        "id": "OjPR20JccnVE"
      },
      "source": [
        "# Naive Bayes classifier"
      ]
    },
    {
      "cell_type": "code",
      "execution_count": null,
      "metadata": {
        "colab": {
          "base_uri": "https://localhost:8080/"
        },
        "id": "Xyl4UePLI8fn",
        "outputId": "4fa7ebeb-8537-4756-ec8f-ccf31d432cf4"
      },
      "outputs": [
        {
          "output_type": "stream",
          "name": "stdout",
          "text": [
            "Naive Bayes Accuracy score: 0.719\n",
            "Naive Bayes Precision score: 0.719\n",
            "Naive Bayes Recall score: 0.719\n",
            "Naive Bayes F1 score: 0.719\n"
          ]
        }
      ],
      "source": [
        "from sklearn.naive_bayes import GaussianNB\n",
        "\n",
        "model_nb = GaussianNB()\n",
        "model_nb.fit(x_train, y_train)\n",
        "y_pred_nb = model_nb.predict(x_test)\n",
        "\n",
        "print(\"Naive Bayes Accuracy score: %.3f\" % accuracy_score(y_test, y_pred_nb))\n",
        "print(\"Naive Bayes Precision score: %.3f\" % precision_score(y_test, y_pred_nb, average='macro'))\n",
        "print(\"Naive Bayes Recall score: %.3f\" % recall_score(y_test, y_pred_nb, average='macro'))\n",
        "print(\"Naive Bayes F1 score: %.3f\" % f1_score(y_test, y_pred_nb, average='macro'))\n"
      ]
    },
    {
      "cell_type": "markdown",
      "metadata": {
        "id": "JxVUmDQ5XAhO"
      },
      "source": [
        "# Multi-layer Perceptron Model"
      ]
    },
    {
      "cell_type": "code",
      "execution_count": null,
      "metadata": {
        "colab": {
          "base_uri": "https://localhost:8080/"
        },
        "id": "r9s_-bAXVP-s",
        "outputId": "5dc16c1e-c0b7-4421-c754-006fe10882cf"
      },
      "outputs": [
        {
          "output_type": "stream",
          "name": "stdout",
          "text": [
            "Multi-layer Perceptron Accuracy Score: 0.926\n",
            "Multi-layer Perceptron Precision Score: 0.931\n",
            "Multi-layer Perceptron Recall Score: 0.926\n",
            "Multi-layer Perceptron F1 Score Score: 0.926\n"
          ]
        }
      ],
      "source": [
        "from sklearn.neural_network import MLPClassifier\n",
        "from sklearn.metrics import accuracy_score, precision_score, recall_score, f1_score\n",
        "from sklearn.preprocessing import StandardScaler\n",
        "\n",
        "# Scale the input features\n",
        "scaler = StandardScaler()\n",
        "x_train_scaled = scaler.fit_transform(x_train)\n",
        "x_test_scaled = scaler.transform(x_test)\n",
        "\n",
        "# Initialize and train the Multi-layer Perceptron classifier with increased max_iter\n",
        "mlp = MLPClassifier(max_iter=1000, random_state=0)\n",
        "mlp.fit(x_train_scaled, y_train)\n",
        "\n",
        "# Predict on the test set\n",
        "y_pred_mlp = mlp.predict(x_test_scaled)\n",
        "\n",
        "# Evaluate the performance of the MLP classifier\n",
        "\n",
        "\n",
        "print(\"Multi-layer Perceptron Accuracy Score: %.3f\" % accuracy_score(y_test, y_pred_mlp))\n",
        "print(\"Multi-layer Perceptron Precision Score: %.3f\" % precision_score(y_test, y_pred_mlp, average='macro'))\n",
        "print(\"Multi-layer Perceptron Recall Score: %.3f\" % recall_score(y_test, y_pred_mlp, average='macro'))\n",
        "print(\"Multi-layer Perceptron F1 Score Score: %.3f\" % f1_score(y_test, y_pred_mlp, average='macro'))\n"
      ]
    },
    {
      "cell_type": "code",
      "execution_count": null,
      "metadata": {
        "id": "htgByM8pPCAe"
      },
      "outputs": [],
      "source": [
        "accuracy = 0.926\n",
        "precision = 0.931\n",
        "recall = 0.926\n",
        "f1 = 0.926\n",
        "\n",
        "scores = [accuracy, precision, recall, f1]\n",
        "score_names = ['Accuracy', 'Precision', 'Recall', 'F1']\n",
        "\n",
        "data = {'Metrics': score_names, 'Scores': scores}\n",
        "df = pd.DataFrame(data)\n",
        "\n",
        "plt.figure(figsize=(8, 6))\n",
        "sns.barplot(x='Metrics', y='Scores', data=df, palette='Set2')\n",
        "plt.xlabel('Metrics')\n",
        "plt.ylabel('Scores')\n",
        "plt.title('Performance Metrics - Multi-layer Perceptron Classifier')\n",
        "plt.ylim(0.8, 1.0)  # Adjust the y-axis limits if needed\n",
        "plt.show()\n"
      ]
    },
    {
      "cell_type": "markdown",
      "metadata": {
        "id": "8D3nXUwqQVkA"
      },
      "source": [
        "# Decision Tree"
      ]
    },
    {
      "cell_type": "code",
      "execution_count": null,
      "metadata": {
        "colab": {
          "base_uri": "https://localhost:8080/"
        },
        "id": "NXKSrX93Pejf",
        "outputId": "f88a719d-05b3-4446-829d-2187f81c6b50"
      },
      "outputs": [
        {
          "output_type": "stream",
          "name": "stdout",
          "text": [
            "Decision Tree Model Accuracy Score: 0.970\n",
            "Decision Tree Model Precision Score: 0.972\n",
            "Decision Tree Model Recall Score: 0.971\n",
            "Decision Tree Model F1 Score: 0.970\n"
          ]
        }
      ],
      "source": [
        "from sklearn.tree import DecisionTreeClassifier\n",
        "from sklearn.metrics import accuracy_score, precision_score, recall_score, f1_score\n",
        "\n",
        "# Initialize and train the Decision Tree model\n",
        "model_dt = DecisionTreeClassifier(max_depth=200, random_state=40)\n",
        "model_dt.fit(x_train, y_train)\n",
        "\n",
        "# Predict on the test set\n",
        "y_pred_dt = model_dt.predict(x_test)\n",
        "\n",
        "\n",
        "print(\"Decision Tree Model Accuracy Score: %.3f\" % accuracy_score(y_test, y_pred_dt))\n",
        "print(\"Decision Tree Model Precision Score: %.3f\" %  precision_score(y_test, y_pred_dt, average='macro'))\n",
        "print(\"Decision Tree Model Recall Score: %.3f\" % recall_score(y_test, y_pred_dt, average='macro'))\n",
        "print(\"Decision Tree Model F1 Score: %.3f\" % f1_score(y_test, y_pred_dt, average='macro'))\n"
      ]
    },
    {
      "cell_type": "code",
      "execution_count": null,
      "metadata": {
        "id": "o9By78eAQYKq"
      },
      "outputs": [],
      "source": [
        "import seaborn as sns\n",
        "import matplotlib.pyplot as plt\n",
        "\n",
        "accuracy = 0.970\n",
        "precision = 0.972\n",
        "recall = 0.971\n",
        "f1 = 0.970\n",
        "\n",
        "scores = [accuracy, precision, recall, f1]\n",
        "score_names = ['Accuracy', 'Precision', 'Recall', 'F1']\n",
        "\n",
        "data = {'Metrics': score_names, 'Scores': scores}\n",
        "df = pd.DataFrame(data)\n",
        "\n",
        "plt.figure(figsize=(8, 6))\n",
        "sns.barplot(x='Metrics', y='Scores', data=df, palette='coolwarm')\n",
        "plt.xlabel('Metrics')\n",
        "plt.ylabel('Scores')\n",
        "plt.title('Performance Metrics - Decision Tree Model')\n",
        "plt.ylim(0.9, 1.0)\n",
        "plt.show()\n"
      ]
    },
    {
      "cell_type": "markdown",
      "metadata": {
        "id": "k-RDpjO8AONA"
      },
      "source": [
        "# Gradient Boosting Classifier"
      ]
    },
    {
      "cell_type": "code",
      "execution_count": null,
      "metadata": {
        "colab": {
          "base_uri": "https://localhost:8080/"
        },
        "id": "wzyMVjZ8_2aF",
        "outputId": "db486697-4321-4c0e-8b5e-1fe83951f549"
      },
      "outputs": [
        {
          "output_type": "stream",
          "name": "stdout",
          "text": [
            "Gradient Boosting Model:\n",
            "Accuracy: 0.864\n",
            "Precision: 0.872\n",
            "Recall: 0.865\n",
            "F1 Score: 0.864\n"
          ]
        }
      ],
      "source": [
        "from sklearn.ensemble import GradientBoostingClassifier\n",
        "from sklearn.metrics import accuracy_score, precision_score, recall_score, f1_score\n",
        "\n",
        "# Create and fit the Gradient Boosting model\n",
        "model_gboost = GradientBoostingClassifier(n_estimators=100, learning_rate=0.1, random_state=0)\n",
        "model_gboost.fit(x_train, y_train)\n",
        "\n",
        "# Predict on the test set using the Gradient Boosting model\n",
        "y_pred_gboost = model_gboost.predict(x_test)\n",
        "\n",
        "# Evaluate the performance of the Gradient Boosting model\n",
        "accuracy = accuracy_score(y_test, y_pred_gboost)\n",
        "precision = precision_score(y_test, y_pred_gboost, average='macro')\n",
        "recall = recall_score(y_test, y_pred_gboost, average='macro')\n",
        "f1 = f1_score(y_test, y_pred_gboost, average='macro')\n",
        "\n",
        "print(\"Gradient Boosting Model:\")\n",
        "print(\"Accuracy: %.3f\" % accuracy)\n",
        "print(\"Precision: %.3f\" % precision)\n",
        "print(\"Recall: %.3f\" % recall)\n",
        "print(\"F1 Score: %.3f\" % f1)\n"
      ]
    },
    {
      "cell_type": "code",
      "execution_count": null,
      "metadata": {
        "id": "U31-wBGTRHGj"
      },
      "outputs": [],
      "source": [
        "import seaborn as sns\n",
        "import matplotlib.pyplot as plt\n",
        "\n",
        "accuracy = 0.864\n",
        "precision = 0.872\n",
        "recall = 0.865\n",
        "f1 = 0.864\n",
        "\n",
        "scores = [accuracy, precision, recall, f1]\n",
        "score_names = ['Accuracy', 'Precision', 'Recall', 'F1']\n",
        "\n",
        "data = {'Metrics': score_names, 'Scores': scores}\n",
        "df = pd.DataFrame(data)\n",
        "\n",
        "plt.figure(figsize=(8, 6))\n",
        "sns.barplot(x='Metrics', y='Scores', data=df, palette='muted')\n",
        "plt.xlabel('Metrics')\n",
        "plt.ylabel('Scores')\n",
        "plt.title('Performance Metrics - Gradient Boosting Model')\n",
        "plt.ylim(0.8, 0.9)  # Adjust the y-axis limits if needed\n",
        "plt.show()\n"
      ]
    },
    {
      "cell_type": "markdown",
      "metadata": {
        "id": "9Ba61ItFaB9C"
      },
      "source": [
        "# XGBoost (Extreme Gradient Boosting) algorithm"
      ]
    },
    {
      "cell_type": "code",
      "execution_count": null,
      "metadata": {
        "colab": {
          "base_uri": "https://localhost:8080/"
        },
        "id": "oHWNj0t2IAZU",
        "outputId": "e87c51b4-6555-49e5-eaec-bb37964275da"
      },
      "outputs": [
        {
          "output_type": "stream",
          "name": "stdout",
          "text": [
            "XGBoost Model:\n",
            "Accuracy: 0.942\n",
            "Precision: 0.947\n",
            "Recall: 0.942\n",
            "F1 Score: 0.941\n"
          ]
        }
      ],
      "source": [
        "from xgboost import XGBClassifier\n",
        "from sklearn.metrics import accuracy_score, precision_score, recall_score, f1_score\n",
        "\n",
        "# Initialize and train XGBoost\n",
        "model_xgb = XGBClassifier(n_estimators=100, learning_rate=0.1, random_state=0)\n",
        "model_xgb.fit(x_train, y_train)\n",
        "\n",
        "# Predict on the test set\n",
        "y_pred_xgb = model_xgb.predict(x_test)\n",
        "\n",
        "# Evaluate the performance of XGBoost\n",
        "accuracy = accuracy_score(y_test, y_pred_xgb)\n",
        "precision = precision_score(y_test, y_pred_xgb, average='macro')\n",
        "recall = recall_score(y_test, y_pred_xgb, average='macro')\n",
        "f1 = f1_score(y_test, y_pred_xgb, average='macro')\n",
        "\n",
        "print(\"XGBoost Model:\")\n",
        "print(\"Accuracy: %.3f\" % accuracy)\n",
        "print(\"Precision: %.3f\" % precision)\n",
        "print(\"Recall: %.3f\" % recall)\n",
        "print(\"F1 Score: %.3f\" % f1)\n"
      ]
    },
    {
      "cell_type": "code",
      "execution_count": null,
      "metadata": {
        "id": "SmifUqhORaVr"
      },
      "outputs": [],
      "source": [
        "accuracy = 0.942\n",
        "precision = 0.947\n",
        "recall = 0.942\n",
        "f1 = 0.941\n",
        "\n",
        "scores = [accuracy, precision, recall, f1]\n",
        "score_names = ['Accuracy', 'Precision', 'Recall', 'F1']\n",
        "\n",
        "data = {'Metrics': score_names, 'Scores': scores}\n",
        "df = pd.DataFrame(data)\n",
        "\n",
        "plt.figure(figsize=(8, 6))\n",
        "sns.barplot(x='Metrics', y='Scores', data=df, palette='pastel')\n",
        "plt.xlabel('Metrics')\n",
        "plt.ylabel('Scores')\n",
        "plt.title('Performance Metrics - XGBoost Model')\n",
        "plt.ylim(0.9, 1.0)\n",
        "plt.show()\n"
      ]
    },
    {
      "cell_type": "markdown",
      "metadata": {
        "id": "nMnqnlGckDdu"
      },
      "source": [
        "# KNN"
      ]
    },
    {
      "cell_type": "code",
      "execution_count": null,
      "metadata": {
        "colab": {
          "base_uri": "https://localhost:8080/"
        },
        "id": "xcAINpDoj2TP",
        "outputId": "4a9ea1b5-f848-4a6f-82f9-40e54c4cf063"
      },
      "outputs": [
        {
          "output_type": "stream",
          "name": "stdout",
          "text": [
            "K-Nearest Neighbors Accuracy score: 0.963\n",
            "K-Nearest Neighbors Precision score: 0.966\n",
            "K-Nearest Neighbors Recall score: 0.964\n",
            "K-Nearest Neighbors F1 score: 0.963\n"
          ]
        }
      ],
      "source": [
        "from sklearn.neighbors import KNeighborsClassifier\n",
        "from sklearn.metrics import accuracy_score, precision_score, recall_score, f1_score\n",
        "\n",
        "\n",
        "model_knn = KNeighborsClassifier(n_neighbors=2)\n",
        "model_knn.fit(x_train, y_train)\n",
        "y_pred_knn = model_knn.predict(x_test)\n",
        "\n",
        "# Evaluation metrics for KNN\n",
        "print(\"K-Nearest Neighbors Accuracy score: %.3f\" % accuracy_score(y_test, y_pred_knn))\n",
        "print(\"K-Nearest Neighbors Precision score: %.3f\" % precision_score(y_test, y_pred_knn, average='macro'))\n",
        "print(\"K-Nearest Neighbors Recall score: %.3f\" % recall_score(y_test, y_pred_knn, average='macro'))\n",
        "print(\"K-Nearest Neighbors F1 score: %.3f\" % f1_score(y_test, y_pred_knn, average='macro'))\n"
      ]
    },
    {
      "cell_type": "code",
      "execution_count": null,
      "metadata": {
        "id": "5JebGe0lTCKm"
      },
      "outputs": [],
      "source": [
        "accuracy = 0.963\n",
        "precision = 0.966\n",
        "recall = 0.964\n",
        "f1 = 0.963\n",
        "\n",
        "scores = [accuracy, precision, recall, f1]\n",
        "score_names = ['Accuracy', 'Precision', 'Recall', 'F1']\n",
        "\n",
        "data = {'Metrics': score_names, 'Scores': scores}\n",
        "df = pd.DataFrame(data)\n",
        "\n",
        "plt.figure(figsize=(8, 6))\n",
        "sns.barplot(x='Metrics', y='Scores', data=df, palette='Set2')\n",
        "plt.xlabel('Metrics')\n",
        "plt.ylabel('Scores')\n",
        "plt.title('Performance Metrics - KNN Model')\n",
        "plt.ylim(0.9, 1.0)\n",
        "plt.show()"
      ]
    },
    {
      "cell_type": "markdown",
      "metadata": {
        "id": "dg3j10Kikn_5"
      },
      "source": [
        "# Logistic Regression"
      ]
    },
    {
      "cell_type": "code",
      "execution_count": null,
      "metadata": {
        "colab": {
          "base_uri": "https://localhost:8080/"
        },
        "id": "UQIkB5BWkvJt",
        "outputId": "50ef5aa4-f85f-4009-8f7e-ca884daeb478"
      },
      "outputs": [
        {
          "output_type": "stream",
          "name": "stdout",
          "text": [
            "Logistic Regression Accuracy score: 0.760\n",
            "Logistic Regression Precision score: 0.763\n",
            "Logistic Regression Recall score: 0.760\n",
            "Logistic Regression F1 score: 0.759\n"
          ]
        }
      ],
      "source": [
        "from sklearn.linear_model import LogisticRegression\n",
        "from sklearn.metrics import accuracy_score, precision_score, recall_score, f1_score\n",
        "\n",
        "\n",
        "model_lr = LogisticRegression(max_iter=50)\n",
        "model_lr.fit(x_train, y_train)\n",
        "y_pred_lr = model_lr.predict(x_test)\n",
        "\n",
        "# Evaluation metrics for Logistic Regression\n",
        "print(\"Logistic Regression Accuracy score: %.3f\" % accuracy_score(y_test, y_pred_lr))\n",
        "print(\"Logistic Regression Precision score: %.3f\" % precision_score(y_test, y_pred_lr, average='macro'))\n",
        "print(\"Logistic Regression Recall score: %.3f\" % recall_score(y_test, y_pred_lr, average='macro'))\n",
        "print(\"Logistic Regression F1 score: %.3f\" % f1_score(y_test, y_pred_lr, average='macro'))\n"
      ]
    },
    {
      "cell_type": "markdown",
      "metadata": {
        "id": "qeH7TX9syA8y"
      },
      "source": [
        "# AdaBoost Classifier"
      ]
    },
    {
      "cell_type": "code",
      "execution_count": null,
      "metadata": {
        "colab": {
          "base_uri": "https://localhost:8080/"
        },
        "id": "hbGCylohA8n0",
        "outputId": "d6cbacdc-151a-4106-9c29-1bd86651d769"
      },
      "outputs": [
        {
          "output_type": "stream",
          "name": "stderr",
          "text": [
            "/usr/local/lib/python3.10/dist-packages/sklearn/ensemble/_base.py:166: FutureWarning:\n",
            "\n",
            "`base_estimator` was renamed to `estimator` in version 1.2 and will be removed in 1.4.\n",
            "\n"
          ]
        },
        {
          "output_type": "stream",
          "name": "stdout",
          "text": [
            "Adaboost Accuracy score: 0.994\n",
            "Adaboost Precision score: 0.994\n",
            "Adaboost Recall score: 0.994\n",
            "Adaboost F1 score: 0.994\n"
          ]
        }
      ],
      "source": [
        "from sklearn.ensemble import AdaBoostClassifier\n",
        "from sklearn.tree import DecisionTreeClassifier\n",
        "from sklearn.metrics import accuracy_score, precision_score, recall_score, f1_score\n",
        "\n",
        "# Define the base estimator (in this case, a Decision Tree)\n",
        "base_estimator = DecisionTreeClassifier(max_depth=10)\n",
        "\n",
        "adaboost_model = AdaBoostClassifier(base_estimator=base_estimator, n_estimators=200)\n",
        "\n",
        "# Train the Adaboost model\n",
        "adaboost_model.fit(x_train, y_train)\n",
        "\n",
        "# Predict using the Adaboost model\n",
        "y_pred_adaboost = adaboost_model.predict(x_test)\n",
        "\n",
        "# Calculate and print evaluation metrics\n",
        "print(\"Adaboost Accuracy score: %.3f\" % accuracy_score(y_test, y_pred_adaboost))\n",
        "print(\"Adaboost Precision score: %.3f\" % precision_score(y_test, y_pred_adaboost, average='macro'))\n",
        "print(\"Adaboost Recall score: %.3f\" % recall_score(y_test, y_pred_adaboost, average='macro'))\n",
        "print(\"Adaboost F1 score: %.3f\" % f1_score(y_test, y_pred_adaboost, average='macro'))"
      ]
    },
    {
      "cell_type": "code",
      "execution_count": null,
      "metadata": {
        "id": "n-NWOTYVT0nu"
      },
      "outputs": [],
      "source": [
        "accuracy = 0.993\n",
        "precision = 0.993\n",
        "recall = 0.993\n",
        "f1 = 0.993\n",
        "\n",
        "scores = [accuracy, precision, recall, f1]\n",
        "score_names = ['Accuracy', 'Precision', 'Recall', 'F1']\n",
        "\n",
        "data = {'Metrics': score_names, 'Scores': scores}\n",
        "df = pd.DataFrame(data)\n",
        "\n",
        "plt.figure(figsize=(6, 6))\n",
        "sns.barplot(x='Metrics', y='Scores', data=df, palette='coolwarm')\n",
        "plt.xlabel('Metrics')\n",
        "plt.ylabel('Scores')\n",
        "plt.title('Performance Metrics - Adaboost')\n",
        "plt.ylim(0.98, 1.0)  # Adjust the y-axis limits if needed\n",
        "plt.show()\n"
      ]
    },
    {
      "cell_type": "markdown",
      "metadata": {
        "id": "K8NoXS79BqDZ"
      },
      "source": [
        "# SVM"
      ]
    },
    {
      "cell_type": "code",
      "execution_count": null,
      "metadata": {
        "colab": {
          "base_uri": "https://localhost:8080/"
        },
        "id": "R9IrkJnABt8b",
        "outputId": "ffd2d14e-4637-4590-adbb-97ecaa41c08d"
      },
      "outputs": [
        {
          "output_type": "stream",
          "name": "stdout",
          "text": [
            "SVM Accuracy score: 0.902\n",
            "SVM Precision score: 0.911\n",
            "SVM Recall score: 0.903\n",
            "SVM F1 score: 0.902\n"
          ]
        }
      ],
      "source": [
        "from sklearn.svm import SVC\n",
        "from sklearn.metrics import accuracy_score, precision_score, recall_score, f1_score\n",
        "\n",
        "# Initialize the Support Vector Classifier (SVC) with additional parameters\n",
        "svm_model = SVC(kernel='rbf', C=70.0, gamma='scale', degree=3)\n",
        "\n",
        "\n",
        "# Train the SVM model\n",
        "svm_model.fit(x_train, y_train)\n",
        "\n",
        "# Predict using the SVM model\n",
        "y_pred_svm = svm_model.predict(x_test)\n",
        "\n",
        "# Calculate and print evaluation metrics\n",
        "print(\"SVM Accuracy score: %.3f\" % accuracy_score(y_test, y_pred_svm))\n",
        "print(\"SVM Precision score: %.3f\" % precision_score(y_test, y_pred_svm, average='macro'))\n",
        "print(\"SVM Recall score: %.3f\" % recall_score(y_test, y_pred_svm, average='macro'))\n",
        "print(\"SVM F1 score: %.3f\" % f1_score(y_test, y_pred_svm, average='macro'))\n"
      ]
    },
    {
      "cell_type": "code",
      "execution_count": null,
      "metadata": {
        "id": "yy1ItnqIUflh"
      },
      "outputs": [],
      "source": [
        "\n",
        "accuracy = 0.902\n",
        "precision = 0.911\n",
        "recall = 0.903\n",
        "f1 = 0.902\n",
        "\n",
        "scores = [accuracy, precision, recall, f1]\n",
        "score_names = ['Accuracy', 'Precision', 'Recall', 'F1']\n",
        "\n",
        "data = {'Metrics': score_names, 'Scores': scores}\n",
        "df = pd.DataFrame(data)\n",
        "\n",
        "plt.figure(figsize=(8, 6))\n",
        "sns.barplot(x='Metrics', y='Scores', data=df)\n",
        "plt.xlabel('Metrics')\n",
        "plt.ylabel('Scores')\n",
        "plt.title('Performance Metrics - SVM')\n",
        "plt.ylim(0.85, 0.95)  # Adjust the y-axis limits if needed\n",
        "plt.show()\n"
      ]
    },
    {
      "cell_type": "code",
      "execution_count": null,
      "metadata": {
        "id": "qlYs3EzvU2wI"
      },
      "outputs": [],
      "source": [
        "accuracy_scores = {\n",
        "    'Random Forest': 0.98,\n",
        "    'Multi-Layer Perception': 0.92,    'Decision Tree': 0.97,\n",
        "    'Gradient Boosting': 0.86,\n",
        "    'XGBoost': 0.94,\n",
        "    'KNN': 0.94,\n",
        "    'Adaboost': 0.99,\n",
        "    'SVM': 0.90\n",
        "}\n",
        "\n",
        "models = list(accuracy_scores.keys())\n",
        "scores = list(accuracy_scores.values())\n",
        "\n",
        "plt.figure(figsize=(10, 6))\n",
        "sns.barplot(x=models, y=scores, palette='Set2')\n",
        "plt.xlabel('Models')\n",
        "plt.ylabel('Accuracy Score')\n",
        "plt.title('Comparison of Model Accuracy Scores')\n",
        "plt.ylim(0.8, 1.0)\n",
        "plt.xticks(rotation=45)\n",
        "plt.show()\n",
        "\n"
      ]
    },
    {
      "cell_type": "code",
      "source": [],
      "metadata": {
        "id": "NJ2YOhaohzCc"
      },
      "execution_count": null,
      "outputs": []
    },
    {
      "cell_type": "code",
      "source": [
        "Precision_scores = {\n",
        "    'Random Forest': 0.989,\n",
        "    'Multi-Layer Perception': 0.931,\n",
        "    'Decision Tree': 0.9719,\n",
        "    'Gradient Boosting': 0.872,\n",
        "    'XGBoost': 0.947,\n",
        "    'KNN': 0.966,\n",
        "    'Adaboost': 0.995,\n",
        "    'SVM': 0.911\n",
        "}\n",
        "\n",
        "models = list(Precision_scores.keys())\n",
        "scores = list(Precision_scores.values())\n",
        "\n",
        "plt.figure(figsize=(10, 6))\n",
        "sns.barplot(x=models, y=scores, palette='Set2')\n",
        "plt.xlabel('Models')\n",
        "plt.ylabel('Precision Scores')\n",
        "plt.title('Comparison of Model Precision Scores')\n",
        "plt.ylim(0.8, 1.0)\n",
        "plt.xticks(rotation=45)\n",
        "plt.show()\n"
      ],
      "metadata": {
        "id": "CQ6KObIpfqDm"
      },
      "execution_count": null,
      "outputs": []
    },
    {
      "cell_type": "code",
      "source": [
        "Recall_scores = {\n",
        "    'Random Forest': 0.988,\n",
        "    'Multi-Layer Perception': 0.926,\n",
        "    'Decision Tree': 0.971,\n",
        "    'Gradient Boosting': 0.865,\n",
        "    'XGBoost': 0.942,\n",
        "    'KNN': 0.964,\n",
        "    'Adaboost': 0.995,\n",
        "    'SVM': 0.903\n",
        "}\n",
        "\n",
        "models = list(Recall_scores.keys())\n",
        "scores = list(Recall_scores.values())\n",
        "\n",
        "plt.figure(figsize=(10, 6))\n",
        "sns.barplot(x=models, y=scores, palette='Set2')\n",
        "plt.xlabel('Models')\n",
        "plt.ylabel('Recall Scores')\n",
        "plt.title('Comparison of Model Recall Scores')\n",
        "plt.ylim(0.8, 1.0)\n",
        "plt.xticks(rotation=45)\n",
        "plt.show()"
      ],
      "metadata": {
        "id": "S8KkjVa0geGv"
      },
      "execution_count": null,
      "outputs": []
    },
    {
      "cell_type": "code",
      "source": [
        "F1_scores = {\n",
        "    'Random Forest': 0.988,\n",
        "    'Multi-Layer Perception': 0.926,\n",
        "    'Decision Tree': 0.971,\n",
        "    'Gradient Boosting': 0.865,\n",
        "    'XGBoost': 0.942,\n",
        "    'KNN': 0.964,\n",
        "    'Adaboost': 0.995,\n",
        "    'SVM': 0.903\n",
        "}\n",
        "\n",
        "models = list(F1_scores.keys())\n",
        "scores = list(F1_scores.values())\n",
        "\n",
        "plt.figure(figsize=(10, 6))\n",
        "sns.barplot(x=models, y=scores, palette='Set2')\n",
        "plt.xlabel('Models')\n",
        "plt.ylabel('F1 Scores')\n",
        "plt.title('Comparison of Model F1 Scores')\n",
        "plt.ylim(0.8, 1.0)\n",
        "plt.xticks(rotation=45)\n",
        "plt.show()"
      ],
      "metadata": {
        "id": "nZLSiYS7hHRV"
      },
      "execution_count": null,
      "outputs": []
    }
  ],
  "metadata": {
    "colab": {
      "provenance": [],
      "include_colab_link": true
    },
    "kernelspec": {
      "display_name": "Python 3",
      "name": "python3"
    },
    "language_info": {
      "name": "python"
    }
  },
  "nbformat": 4,
  "nbformat_minor": 0
}